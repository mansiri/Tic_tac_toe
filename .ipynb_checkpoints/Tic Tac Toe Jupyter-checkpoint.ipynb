{
 "cells": [
  {
   "cell_type": "code",
   "execution_count": 70,
   "id": "aeba092d",
   "metadata": {},
   "outputs": [
    {
     "name": "stdout",
     "output_type": "stream",
     "text": [
      "['      1', ' 2', '  3']\n",
      "['A', '[]', '[]', '[]']\n",
      "['B', '[]', '[]', '[]']\n",
      "['C', '[]', '[]', '[]']\n"
     ]
    }
   ],
   "source": [
    "header = [\"      1\", \" 2\",\"  3\"]\n",
    "A = [\"A\", \"[]\",\"[]\",\"[]\"]\n",
    "B = [\"B\", \"[]\",\"[]\",\"[]\"]\n",
    "C = [\"C\", \"[]\",\"[]\",\"[]\"]\n",
    "\n",
    "def game_board():\n",
    "    print(header)\n",
    "    print(A)\n",
    "    print(B)\n",
    "    print(C)\n",
    "    \n",
    "game_board()"
   ]
  },
  {
   "cell_type": "code",
   "execution_count": 71,
   "id": "6799f8bc",
   "metadata": {},
   "outputs": [],
   "source": [
    "def input(line, space, move):\n",
    "    if space > 2:\n",
    "        return print(\"Illegal move.\")\n",
    "    elif line[space] == \"[]\":\n",
    "        line[space] = move\n",
    "        return game_board()\n",
    "    else: return print(\"Illegal move.\")"
   ]
  },
  {
   "cell_type": "code",
   "execution_count": 72,
   "id": "d64cb98b",
   "metadata": {},
   "outputs": [
    {
     "name": "stdout",
     "output_type": "stream",
     "text": [
      "['      1', ' 2', '  3']\n",
      "['A', 'X', '[]', '[]']\n",
      "['B', '[]', '[]', '[]']\n",
      "['C', '[]', '[]', '[]']\n"
     ]
    }
   ],
   "source": [
    "A[1] = 'X'\n",
    "game_board()"
   ]
  },
  {
   "cell_type": "code",
   "execution_count": 73,
   "id": "c7837752",
   "metadata": {},
   "outputs": [
    {
     "name": "stdout",
     "output_type": "stream",
     "text": [
      "Illegal move.\n"
     ]
    }
   ],
   "source": [
    "input(A, 3, 'X')"
   ]
  },
  {
   "cell_type": "code",
   "execution_count": 74,
   "id": "c0870e68",
   "metadata": {},
   "outputs": [
    {
     "name": "stdout",
     "output_type": "stream",
     "text": [
      "['      1', ' 2', '  3']\n",
      "['A', 'X', 'O', '[]']\n",
      "['B', '[]', '[]', '[]']\n",
      "['C', '[]', '[]', '[]']\n"
     ]
    }
   ],
   "source": [
    "input(A, 2, 'O')"
   ]
  },
  {
   "cell_type": "code",
   "execution_count": 75,
   "id": "4370baa1",
   "metadata": {},
   "outputs": [
    {
     "name": "stdout",
     "output_type": "stream",
     "text": [
      "['      1', ' 2', '  3']\n",
      "['A', 'X', 'O', '[]']\n",
      "['B', 'O', '[]', '[]']\n",
      "['C', '[]', '[]', '[]']\n"
     ]
    }
   ],
   "source": [
    "input(B, 1, \"O\")"
   ]
  },
  {
   "cell_type": "code",
   "execution_count": null,
   "id": "c969c7f1",
   "metadata": {},
   "outputs": [],
   "source": []
  }
 ],
 "metadata": {
  "kernelspec": {
   "display_name": "Python 3",
   "language": "python",
   "name": "python3"
  },
  "language_info": {
   "codemirror_mode": {
    "name": "ipython",
    "version": 3
   },
   "file_extension": ".py",
   "mimetype": "text/x-python",
   "name": "python",
   "nbconvert_exporter": "python",
   "pygments_lexer": "ipython3",
   "version": "3.8.8"
  }
 },
 "nbformat": 4,
 "nbformat_minor": 5
}
