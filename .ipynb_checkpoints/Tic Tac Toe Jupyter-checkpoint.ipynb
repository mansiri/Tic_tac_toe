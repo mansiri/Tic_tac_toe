{
 "cells": [
  {
   "cell_type": "code",
   "execution_count": 23,
   "id": "aeba092d",
   "metadata": {},
   "outputs": [
    {
     "name": "stdout",
     "output_type": "stream",
     "text": [
      "['[]', '[]', '[]']\n",
      "['[]', '[]', '[]']\n",
      "['[]', '[]', '[]']\n"
     ]
    }
   ],
   "source": [
    "A = [\"[]\",\"[]\",\"[]\"]\n",
    "B = [\"[]\",\"[]\",\"[]\"]\n",
    "C = [\"[]\",\"[]\",\"[]\"]\n",
    "\n",
    "def game_board():\n",
    "    print(A)\n",
    "    print(B)\n",
    "    print(C)\n",
    "    \n",
    "game_board()"
   ]
  },
  {
   "cell_type": "code",
   "execution_count": 50,
   "id": "7374643a",
   "metadata": {},
   "outputs": [],
   "source": [
    "def input(line, space, move):\n",
    "    if space > 2:\n",
    "        return print(\"Illegal move.\")\n",
    "    elif line[space] == \"[]\":\n",
    "        line[space] = move\n",
    "        return game_board()\n",
    "    else: return print(\"Illegal move.\")"
   ]
  },
  {
   "cell_type": "code",
   "execution_count": 51,
   "id": "0c82f0f5",
   "metadata": {},
   "outputs": [
    {
     "name": "stdout",
     "output_type": "stream",
     "text": [
      "['X', 'X', 'X']\n",
      "['[]', '[]', '[]']\n",
      "['[]', '[]', '[]']\n"
     ]
    }
   ],
   "source": [
    "A[0] = 'X'\n",
    "game_board()"
   ]
  },
  {
   "cell_type": "code",
   "execution_count": 52,
   "id": "325770a3",
   "metadata": {},
   "outputs": [
    {
     "name": "stdout",
     "output_type": "stream",
     "text": [
      "Illegal move.\n"
     ]
    }
   ],
   "source": [
    "input(A, 3, 'X')"
   ]
  },
  {
   "cell_type": "code",
   "execution_count": 54,
   "id": "757ca4a8",
   "metadata": {},
   "outputs": [
    {
     "name": "stdout",
     "output_type": "stream",
     "text": [
      "Illegal move.\n"
     ]
    }
   ],
   "source": [
    "input(A, 2, 'O')"
   ]
  },
  {
   "cell_type": "code",
   "execution_count": 55,
   "id": "dbdc40fc",
   "metadata": {},
   "outputs": [
    {
     "name": "stdout",
     "output_type": "stream",
     "text": [
      "['X', 'X', 'X']\n",
      "['[]', 'O', '[]']\n",
      "['[]', '[]', '[]']\n"
     ]
    }
   ],
   "source": [
    "input(B, 1, \"O\")"
   ]
  }
 ],
 "metadata": {
  "kernelspec": {
   "display_name": "Python 3",
   "language": "python",
   "name": "python3"
  },
  "language_info": {
   "codemirror_mode": {
    "name": "ipython",
    "version": 3
   },
   "file_extension": ".py",
   "mimetype": "text/x-python",
   "name": "python",
   "nbconvert_exporter": "python",
   "pygments_lexer": "ipython3",
   "version": "3.8.8"
  }
 },
 "nbformat": 4,
 "nbformat_minor": 5
}
