{
 "cells": [
  {
   "cell_type": "code",
   "execution_count": 12,
   "id": "aeba092d",
   "metadata": {},
   "outputs": [
    {
     "name": "stdout",
     "output_type": "stream",
     "text": [
      "['[   ]', '[   ]', '[   ]']\n",
      "['[   ]', '[   ]', '[   ]']\n",
      "['[   ]', '[   ]', '[   ]']\n"
     ]
    }
   ],
   "source": [
    "game_board_A = [\"[   ]\",\"[   ]\",\"[   ]\"]\n",
    "game_board_B = [\"[   ]\",\"[   ]\",\"[   ]\"]\n",
    "game_board_C = [\"[   ]\",\"[   ]\",\"[   ]\"]\n",
    "\n",
    "def game_board():\n",
    "    print(game_board_A)\n",
    "    print(game_board_B)\n",
    "    print(game_board_C)\n",
    "    \n",
    "game_board()"
   ]
  },
  {
   "cell_type": "code",
   "execution_count": null,
   "id": "c825aae9",
   "metadata": {},
   "outputs": [],
   "source": []
  }
 ],
 "metadata": {
  "kernelspec": {
   "display_name": "Python 3",
   "language": "python",
   "name": "python3"
  },
  "language_info": {
   "codemirror_mode": {
    "name": "ipython",
    "version": 3
   },
   "file_extension": ".py",
   "mimetype": "text/x-python",
   "name": "python",
   "nbconvert_exporter": "python",
   "pygments_lexer": "ipython3",
   "version": "3.8.8"
  }
 },
 "nbformat": 4,
 "nbformat_minor": 5
}
