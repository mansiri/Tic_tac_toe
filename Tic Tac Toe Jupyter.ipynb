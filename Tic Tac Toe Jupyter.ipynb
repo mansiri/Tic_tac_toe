{
 "cells": [
  {
   "cell_type": "code",
   "execution_count": 4,
   "id": "1030ea7f",
   "metadata": {},
   "outputs": [
    {
     "name": "stdout",
     "output_type": "stream",
     "text": [
      "['[   ]', '[   ]', '[   ]', '\\n[   ]', '[   ]', '[   ]', '\\n[   ]', '[   ]', '[   ]']\n"
     ]
    }
   ],
   "source": [
    "game_board = [\"[   ]\",\"[   ]\",\"[   ]\",'''\n",
    "[   ]''',\"[   ]\",\"[   ]\",'''\n",
    "[   ]''',\"[   ]\",\"[   ]\"]\n",
    "print(game_board)"
   ]
  },
  {
   "cell_type": "code",
   "execution_count": null,
   "id": "f56c45a9",
   "metadata": {},
   "outputs": [],
   "source": []
  }
 ],
 "metadata": {
  "kernelspec": {
   "display_name": "Python 3",
   "language": "python",
   "name": "python3"
  },
  "language_info": {
   "codemirror_mode": {
    "name": "ipython",
    "version": 3
   },
   "file_extension": ".py",
   "mimetype": "text/x-python",
   "name": "python",
   "nbconvert_exporter": "python",
   "pygments_lexer": "ipython3",
   "version": "3.8.8"
  }
 },
 "nbformat": 4,
 "nbformat_minor": 5
}
